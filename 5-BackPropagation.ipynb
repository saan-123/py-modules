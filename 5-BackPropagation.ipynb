{
 "cells": [
  {
   "cell_type": "code",
   "execution_count": 18,
   "id": "2215acc3-c85b-458e-a942-a26579bd059a",
   "metadata": {},
   "outputs": [
    {
     "name": "stdout",
     "output_type": "stream",
     "text": [
      "Input:\n",
      "[[0.22222222 1.        ]\n",
      " [0.11111111 0.55555556]\n",
      " [0.33333333 0.66666667]]\n",
      "Actual Output:\n",
      "[[0.92]\n",
      " [0.86]\n",
      " [0.89]]\n",
      "Predicted Output:\n",
      "[[0.89640488]\n",
      " [0.88226145]\n",
      " [0.89090618]]\n"
     ]
    }
   ],
   "source": [
    "import numpy as np\n",
    "\n",
    "# Sigmoid activation function\n",
    "def sigmoid(x):\n",
    "    return 1 / (1 + np.exp(-x))\n",
    "\n",
    "# Input data\n",
    "X = np.array(([2, 9], [1, 5], [3, 6]), dtype=float) / 9\n",
    "y = np.array(([92], [86], [89]), dtype=float) / 100\n",
    "\n",
    "# Neural network parameters\n",
    "input_neurons, hidden_neurons, output_neurons = 2, 3, 1\n",
    "epoch, lr = 7000, 0.1\n",
    "\n",
    "# Initialize weights and biases\n",
    "wh = np.random.uniform(size=(input_neurons, hidden_neurons))\n",
    "wout = np.random.uniform(size=(hidden_neurons, output_neurons))\n",
    "bh = np.random.uniform(size=(1, hidden_neurons))\n",
    "bout = np.random.uniform(size=(1, output_neurons))\n",
    "\n",
    "# Training\n",
    "for i in range(epoch):\n",
    "    # Forward propagation\n",
    "    hinp = np.dot(X, wh) + bh\n",
    "    hlayer_act = sigmoid(hinp)\n",
    "    outinp = np.dot(hlayer_act, wout) + bout\n",
    "    output = sigmoid(outinp)\n",
    "\n",
    "    # Backpropagation\n",
    "    EO = y - output\n",
    "    d_output = EO * output * (1 - output)\n",
    "    EH = d_output.dot(wout.T) * hlayer_act * (1 - hlayer_act)\n",
    "\n",
    "    # Update weights and biases\n",
    "    wout += hlayer_act.T.dot(d_output) * lr\n",
    "    wh += X.T.dot(EH) * lr\n",
    "\n",
    "# Print results\n",
    "print(f\"Input:\\n{X}\")\n",
    "print(f\"Actual Output:\\n{y}\")\n",
    "print(f\"Predicted Output:\\n{output}\")\n"
   ]
  }
 ],
 "metadata": {
  "kernelspec": {
   "display_name": "Python 3 (ipykernel)",
   "language": "python",
   "name": "python3"
  },
  "language_info": {
   "codemirror_mode": {
    "name": "ipython",
    "version": 3
   },
   "file_extension": ".py",
   "mimetype": "text/x-python",
   "name": "python",
   "nbconvert_exporter": "python",
   "pygments_lexer": "ipython3",
   "version": "3.12.0"
  },
  "widgets": {
   "application/vnd.jupyter.widget-state+json": {
    "state": {},
    "version_major": 2,
    "version_minor": 0
   }
  }
 },
 "nbformat": 4,
 "nbformat_minor": 5
}
