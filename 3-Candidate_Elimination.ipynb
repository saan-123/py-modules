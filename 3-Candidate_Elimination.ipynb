{
 "cells": [
  {
   "cell_type": "code",
   "execution_count": 2,
   "id": "6d1c87c5-a3bb-4f90-b76d-bbd5751c7937",
   "metadata": {},
   "outputs": [],
   "source": [
    "import csv"
   ]
  },
  {
   "cell_type": "code",
   "execution_count": 4,
   "id": "51341b52-3acf-4474-8772-d1e39e749376",
   "metadata": {},
   "outputs": [
    {
     "name": "stdout",
     "output_type": "stream",
     "text": [
      "Step 0 of Candidate Elimination Algorithm\n",
      "Specific Hypothesis: ['Sunny', 'Warm', 'Normal', 'Strong', 'Warm', 'Same'] \n",
      "General Hypothesis: [['?', '?', '?', '?', '?', '?'], ['?', '?', '?', '?', '?', '?'], ['?', '?', '?', '?', '?', '?'], ['?', '?', '?', '?', '?', '?'], ['?', '?', '?', '?', '?', '?'], ['?', '?', '?', '?', '?', '?']]\n",
      "Step 1 of Candidate Elimination Algorithm\n",
      "Specific Hypothesis: ['Sunny', 'Warm', '?', 'Strong', 'Warm', 'Same'] \n",
      "General Hypothesis: [['?', '?', '?', '?', '?', '?'], ['?', '?', '?', '?', '?', '?'], ['?', '?', '?', '?', '?', '?'], ['?', '?', '?', '?', '?', '?'], ['?', '?', '?', '?', '?', '?'], ['?', '?', '?', '?', '?', '?']]\n",
      "Step 2 of Candidate Elimination Algorithm\n",
      "Specific Hypothesis: ['Sunny', 'Warm', '?', 'Strong', 'Warm', 'Same'] \n",
      "General Hypothesis: [['Sunny', '?', '?', '?', '?', '?'], ['?', 'Warm', '?', '?', '?', '?'], ['?', '?', '?', '?', '?', '?'], ['?', '?', '?', '?', '?', '?'], ['?', '?', '?', '?', '?', '?'], ['?', '?', '?', '?', '?', 'Same']]\n",
      "Step 3 of Candidate Elimination Algorithm\n",
      "Specific Hypothesis: ['Sunny', 'Warm', '?', 'Strong', '?', '?'] \n",
      "General Hypothesis: [['Sunny', '?', '?', '?', '?', '?'], ['?', 'Warm', '?', '?', '?', '?'], ['?', '?', '?', '?', '?', '?'], ['?', '?', '?', '?', '?', '?'], ['?', '?', '?', '?', '?', '?'], ['?', '?', '?', '?', '?', '?']]\n",
      "Final General Hypothesis: ['Sunny', 'Warm', '?', 'Strong', '?', '?']\n",
      "Final General Hypothesis: [['Sunny'], ['Warm'], [], [], [], []]\n"
     ]
    }
   ],
   "source": [
    "with open ('./Datasets/trainingexamples.csv') as f:\n",
    "    csv_file = csv.reader(f)\n",
    "    data = list(csv_file)\n",
    "\n",
    "    specific = data[0][:-1]\n",
    "    general = [['?' for _ in specific] for _ in specific]\n",
    "\n",
    "    for i in data:\n",
    "        attr_values = i[:-1]\n",
    "        outcome = i[-1]\n",
    "\n",
    "        for j in range(len(specific)):\n",
    "            if outcome == \"Yes\":\n",
    "                if attr_values[j] != specific[j]:\n",
    "                    specific[j] = '?'\n",
    "                    general[j][j] = '?'\n",
    "            elif outcome == \"No\":\n",
    "                if attr_values[j] != specific[j]:\n",
    "                    general[j][j] = specific [j]\n",
    "                else:\n",
    "                    general[j][j] = '?'\n",
    "\n",
    "        print(f\"Step {data.index(i)} of Candidate Elimination Algorithm\")\n",
    "        print(f\"Specific Hypothesis: {specific} \")\n",
    "        print (f\"General Hypothesis: {general}\")\n",
    "\n",
    "    generalHypothesis = [list(filter(lambda x: x != '?', i)) for i in general]\n",
    "    print(f\"Final General Hypothesis: {specific}\")\n",
    "    print(f\"Final General Hypothesis: {generalHypothesis}\")"
   ]
  }
 ],
 "metadata": {
  "kernelspec": {
   "display_name": "Python 3 (ipykernel)",
   "language": "python",
   "name": "python3"
  },
  "language_info": {
   "codemirror_mode": {
    "name": "ipython",
    "version": 3
   },
   "file_extension": ".py",
   "mimetype": "text/x-python",
   "name": "python",
   "nbconvert_exporter": "python",
   "pygments_lexer": "ipython3",
   "version": "3.12.0"
  },
  "widgets": {
   "application/vnd.jupyter.widget-state+json": {
    "state": {},
    "version_major": 2,
    "version_minor": 0
   }
  }
 },
 "nbformat": 4,
 "nbformat_minor": 5
}
