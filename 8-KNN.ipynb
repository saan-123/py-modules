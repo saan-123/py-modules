{
 "cells": [
  {
   "cell_type": "code",
   "execution_count": 2,
   "id": "bcae81ba-33d8-4205-bbc7-9a783991e39e",
   "metadata": {},
   "outputs": [],
   "source": [
    "from sklearn.model_selection import train_test_split \n",
    "from sklearn.neighbors import KNeighborsClassifier \n",
    "from sklearn import datasets"
   ]
  },
  {
   "cell_type": "code",
   "execution_count": 4,
   "id": "85a7c289-7ab6-4ece-ab3f-c295723732cf",
   "metadata": {},
   "outputs": [
    {
     "name": "stdout",
     "output_type": "stream",
     "text": [
      "Iris Data set loaded...\n"
     ]
    }
   ],
   "source": [
    "iris=datasets.load_iris()\n",
    "print(\"Iris Data set loaded...\")"
   ]
  },
  {
   "cell_type": "code",
   "execution_count": 5,
   "id": "eb9678f5-47f6-4c77-9216-1fe3cf817dfb",
   "metadata": {},
   "outputs": [
    {
     "name": "stdout",
     "output_type": "stream",
     "text": [
      "Label 0 - setosa\n",
      "Label 1 - versicolor\n",
      "Label 2 - virginica\n",
      "Results of Classification using K-nn with K=5 \n",
      " Sample: [6.3 2.8 5.1 1.5]  Actual-label: 2  Predicted-label: 2\n",
      "Classification Accuracy : 0.9333333333333333\n",
      " Sample: [5.5 2.5 4.  1.3]  Actual-label: 1  Predicted-label: 1\n",
      "Classification Accuracy : 0.9333333333333333\n",
      " Sample: [6.4 3.2 4.5 1.5]  Actual-label: 1  Predicted-label: 1\n",
      "Classification Accuracy : 0.9333333333333333\n",
      " Sample: [6.5 2.8 4.6 1.5]  Actual-label: 1  Predicted-label: 1\n",
      "Classification Accuracy : 0.9333333333333333\n",
      " Sample: [6.8 2.8 4.8 1.4]  Actual-label: 1  Predicted-label: 1\n",
      "Classification Accuracy : 0.9333333333333333\n",
      " Sample: [5.4 3.  4.5 1.5]  Actual-label: 1  Predicted-label: 1\n",
      "Classification Accuracy : 0.9333333333333333\n",
      " Sample: [4.9 3.1 1.5 0.1]  Actual-label: 0  Predicted-label: 0\n",
      "Classification Accuracy : 0.9333333333333333\n",
      " Sample: [4.9 3.  1.4 0.2]  Actual-label: 0  Predicted-label: 0\n",
      "Classification Accuracy : 0.9333333333333333\n",
      " Sample: [5.9 3.2 4.8 1.8]  Actual-label: 1  Predicted-label: 2\n",
      "Classification Accuracy : 0.9333333333333333\n",
      " Sample: [6.9 3.1 5.4 2.1]  Actual-label: 2  Predicted-label: 2\n",
      "Classification Accuracy : 0.9333333333333333\n",
      " Sample: [6.4 2.9 4.3 1.3]  Actual-label: 1  Predicted-label: 1\n",
      "Classification Accuracy : 0.9333333333333333\n",
      " Sample: [5.1 3.8 1.6 0.2]  Actual-label: 0  Predicted-label: 0\n",
      "Classification Accuracy : 0.9333333333333333\n",
      " Sample: [5.7 4.4 1.5 0.4]  Actual-label: 0  Predicted-label: 0\n",
      "Classification Accuracy : 0.9333333333333333\n",
      " Sample: [6.  2.9 4.5 1.5]  Actual-label: 1  Predicted-label: 1\n",
      "Classification Accuracy : 0.9333333333333333\n",
      " Sample: [5.6 2.5 3.9 1.1]  Actual-label: 1  Predicted-label: 1\n",
      "Classification Accuracy : 0.9333333333333333\n"
     ]
    }
   ],
   "source": [
    "x_train, x_test, y_train, y_test = train_test_split(iris.data,iris.target,test_size=0.1)\n",
    "#random_state=0\n",
    "for i in range(len(iris.target_names)):\n",
    "    print(\"Label\", i , \"-\",str(iris.target_names[i]))\n",
    "classifier = KNeighborsClassifier(n_neighbors=5)\n",
    "classifier.fit(x_train, y_train)\n",
    "y_pred=classifier.predict(x_test)\n",
    "print(\"Results of Classification using K-nn with K=5 \")\n",
    "for r in range(0,len(x_test)):\n",
    "    print(\" Sample:\", str(x_test[r]), \" Actual-label:\", str(y_test[r]),\" Predicted-label:\", str(y_pred[r]))\n",
    "    print(\"Classification Accuracy :\" , classifier.score(x_test,y_test));"
   ]
  }
 ],
 "metadata": {
  "kernelspec": {
   "display_name": "Python 3 (ipykernel)",
   "language": "python",
   "name": "python3"
  },
  "language_info": {
   "codemirror_mode": {
    "name": "ipython",
    "version": 3
   },
   "file_extension": ".py",
   "mimetype": "text/x-python",
   "name": "python",
   "nbconvert_exporter": "python",
   "pygments_lexer": "ipython3",
   "version": "3.12.0"
  },
  "widgets": {
   "application/vnd.jupyter.widget-state+json": {
    "state": {},
    "version_major": 2,
    "version_minor": 0
   }
  }
 },
 "nbformat": 4,
 "nbformat_minor": 5
}
